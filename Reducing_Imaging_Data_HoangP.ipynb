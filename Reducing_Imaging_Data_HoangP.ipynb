{
 "cells": [
  {
   "cell_type": "markdown",
   "metadata": {},
   "source": [
    "Paul Hoang\n",
    "\n",
    "# Reducing Imaging Data\n",
    "\n"
   ]
  },
  {
   "cell_type": "markdown",
   "metadata": {},
   "source": [
    "### Bias & Overscan\n",
    "\n",
    "\n",
    "\n",
    "#### Question (2 pt): Define the bias. Include both a decription of what it looks like physically, why it occurs, and how we take it into account (how do we remove its effect on our data images?).\n",
    "#####                        Even without any light or any source of light, the CCD pixel sensor still have some variation of signal coming through. Effectively by taking the bias, we are taking the data of signal that the CCD will pick up while there is no signal (or photon) go in throught the CCD or readout signal. When we take an actual light image, we can eliminate this effect by remove the bias file we take, or in a more simple term, using the image subtract the bias. Therefore the data of the observed object will be more accurate."
   ]
  },
  {
   "cell_type": "markdown",
   "metadata": {},
   "source": [
    "#### Question (1pt) : Why would you use more than one bias frame?\n",
    "\n",
    "##### The condition of the CCD will not be statics and won't be the same everytime. By taking multiple bias, we can find the average bias signal which will give a better and more accurate result compare to taking only one bias."
   ]
  },
  {
   "cell_type": "code",
   "execution_count": null,
   "metadata": {},
   "outputs": [],
   "source": [
    " "
   ]
  }
 ],
 "metadata": {
  "kernelspec": {
   "display_name": "Python 3",
   "language": "python",
   "name": "python3"
  },
  "language_info": {
   "codemirror_mode": {
    "name": "ipython",
    "version": 3
   },
   "file_extension": ".py",
   "mimetype": "text/x-python",
   "name": "python",
   "nbconvert_exporter": "python",
   "pygments_lexer": "ipython3",
   "version": "3.6.4"
  }
 },
 "nbformat": 4,
 "nbformat_minor": 2
}
